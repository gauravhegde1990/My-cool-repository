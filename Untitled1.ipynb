{
  "nbformat": 4,
  "nbformat_minor": 0,
  "metadata": {
    "colab": {
      "name": "Untitled1.ipynb",
      "provenance": []
    },
    "kernelspec": {
      "name": "python3",
      "display_name": "Python 3"
    }
  },
  "cells": [
    {
      "cell_type": "code",
      "metadata": {
        "id": "9PKDPZQFEb6E",
        "colab_type": "code",
        "colab": {}
      },
      "source": [
        "#Predicts the price of Facebook stock for a day using Support Vector Regression Model\n",
        "import csv\n",
        "import pandas as pd\n",
        "import numpy as np\n",
        "from sklearn.svm import SVR #Support Vector Regressiom\n",
        "from sklearn.model_selection import train_test_split \n",
        "import matplotlib.pyplot as plt\n"
      ],
      "execution_count": 0,
      "outputs": []
    },
    {
      "cell_type": "code",
      "metadata": {
        "id": "BXhvwnX0FTFM",
        "colab_type": "code",
        "colab": {
          "base_uri": "https://localhost:8080/",
          "height": 266
        },
        "outputId": "eb12b5ca-4db4-4d63-cea5-1a2a6db326b6"
      },
      "source": [
        "#Load the data\n",
        "# from google.colab import files # Use to load data on Google Colab\n",
        "# uploaded = files.upload() # Use to load data on Google Colab\n",
        "df = pd.read_csv('FB_30_days.csv')\n",
        "df.head(7)"
      ],
      "execution_count": 30,
      "outputs": [
        {
          "output_type": "execute_result",
          "data": {
            "text/html": [
              "<div>\n",
              "<style scoped>\n",
              "    .dataframe tbody tr th:only-of-type {\n",
              "        vertical-align: middle;\n",
              "    }\n",
              "\n",
              "    .dataframe tbody tr th {\n",
              "        vertical-align: top;\n",
              "    }\n",
              "\n",
              "    .dataframe thead th {\n",
              "        text-align: right;\n",
              "    }\n",
              "</style>\n",
              "<table border=\"1\" class=\"dataframe\">\n",
              "  <thead>\n",
              "    <tr style=\"text-align: right;\">\n",
              "      <th></th>\n",
              "      <th>Date</th>\n",
              "      <th>Open</th>\n",
              "      <th>High</th>\n",
              "      <th>Low</th>\n",
              "      <th>Close</th>\n",
              "      <th>Adj Close</th>\n",
              "      <th>Volume</th>\n",
              "    </tr>\n",
              "  </thead>\n",
              "  <tbody>\n",
              "    <tr>\n",
              "      <th>0</th>\n",
              "      <td>2019-05-01</td>\n",
              "      <td>194.779999</td>\n",
              "      <td>196.179993</td>\n",
              "      <td>193.009995</td>\n",
              "      <td>193.029999</td>\n",
              "      <td>193.029999</td>\n",
              "      <td>15996600</td>\n",
              "    </tr>\n",
              "    <tr>\n",
              "      <th>1</th>\n",
              "      <td>2019-05-02</td>\n",
              "      <td>193.000000</td>\n",
              "      <td>194.000000</td>\n",
              "      <td>189.750000</td>\n",
              "      <td>192.529999</td>\n",
              "      <td>192.529999</td>\n",
              "      <td>13209500</td>\n",
              "    </tr>\n",
              "    <tr>\n",
              "      <th>2</th>\n",
              "      <td>2019-05-03</td>\n",
              "      <td>194.380005</td>\n",
              "      <td>196.160004</td>\n",
              "      <td>193.710007</td>\n",
              "      <td>195.470001</td>\n",
              "      <td>195.470001</td>\n",
              "      <td>14575400</td>\n",
              "    </tr>\n",
              "    <tr>\n",
              "      <th>3</th>\n",
              "      <td>2019-05-06</td>\n",
              "      <td>191.240005</td>\n",
              "      <td>194.279999</td>\n",
              "      <td>190.550003</td>\n",
              "      <td>193.880005</td>\n",
              "      <td>193.880005</td>\n",
              "      <td>13994900</td>\n",
              "    </tr>\n",
              "    <tr>\n",
              "      <th>4</th>\n",
              "      <td>2019-05-07</td>\n",
              "      <td>192.539993</td>\n",
              "      <td>192.899994</td>\n",
              "      <td>187.850006</td>\n",
              "      <td>189.770004</td>\n",
              "      <td>189.770004</td>\n",
              "      <td>16253000</td>\n",
              "    </tr>\n",
              "    <tr>\n",
              "      <th>5</th>\n",
              "      <td>2019-05-08</td>\n",
              "      <td>189.389999</td>\n",
              "      <td>190.720001</td>\n",
              "      <td>188.550003</td>\n",
              "      <td>189.539993</td>\n",
              "      <td>189.539993</td>\n",
              "      <td>12505700</td>\n",
              "    </tr>\n",
              "    <tr>\n",
              "      <th>6</th>\n",
              "      <td>2019-05-09</td>\n",
              "      <td>187.199997</td>\n",
              "      <td>189.770004</td>\n",
              "      <td>186.259995</td>\n",
              "      <td>188.649994</td>\n",
              "      <td>188.649994</td>\n",
              "      <td>12967000</td>\n",
              "    </tr>\n",
              "  </tbody>\n",
              "</table>\n",
              "</div>"
            ],
            "text/plain": [
              "         Date        Open        High  ...       Close   Adj Close    Volume\n",
              "0  2019-05-01  194.779999  196.179993  ...  193.029999  193.029999  15996600\n",
              "1  2019-05-02  193.000000  194.000000  ...  192.529999  192.529999  13209500\n",
              "2  2019-05-03  194.380005  196.160004  ...  195.470001  195.470001  14575400\n",
              "3  2019-05-06  191.240005  194.279999  ...  193.880005  193.880005  13994900\n",
              "4  2019-05-07  192.539993  192.899994  ...  189.770004  189.770004  16253000\n",
              "5  2019-05-08  189.389999  190.720001  ...  189.539993  189.539993  12505700\n",
              "6  2019-05-09  187.199997  189.770004  ...  188.649994  188.649994  12967000\n",
              "\n",
              "[7 rows x 7 columns]"
            ]
          },
          "metadata": {
            "tags": []
          },
          "execution_count": 30
        }
      ]
    },
    {
      "cell_type": "code",
      "metadata": {
        "id": "NfD-B-3EL3bK",
        "colab_type": "code",
        "colab": {}
      },
      "source": [
        "#Create the list X and Y dataset \n",
        "dates=[]\n",
        "prices=[]"
      ],
      "execution_count": 0,
      "outputs": []
    },
    {
      "cell_type": "code",
      "metadata": {
        "id": "rtHadYDPhhX-",
        "colab_type": "code",
        "colab": {
          "base_uri": "https://localhost:8080/",
          "height": 34
        },
        "outputId": "e5637405-188a-4a5a-a894-0f381b1595ca"
      },
      "source": [
        "#Number of rows and columns in the data\n",
        "df.shape"
      ],
      "execution_count": 32,
      "outputs": [
        {
          "output_type": "execute_result",
          "data": {
            "text/plain": [
              "(22, 7)"
            ]
          },
          "metadata": {
            "tags": []
          },
          "execution_count": 32
        }
      ]
    },
    {
      "cell_type": "code",
      "metadata": {
        "colab_type": "code",
        "outputId": "d2cae6b8-15c9-442d-eacf-639feaddcd17",
        "id": "FsFoVDEOjqDs",
        "colab": {
          "base_uri": "https://localhost:8080/",
          "height": 80
        }
      },
      "source": [
        "#last row of data (testing dataset)\n",
        "df.tail(1)"
      ],
      "execution_count": 33,
      "outputs": [
        {
          "output_type": "execute_result",
          "data": {
            "text/html": [
              "<div>\n",
              "<style scoped>\n",
              "    .dataframe tbody tr th:only-of-type {\n",
              "        vertical-align: middle;\n",
              "    }\n",
              "\n",
              "    .dataframe tbody tr th {\n",
              "        vertical-align: top;\n",
              "    }\n",
              "\n",
              "    .dataframe thead th {\n",
              "        text-align: right;\n",
              "    }\n",
              "</style>\n",
              "<table border=\"1\" class=\"dataframe\">\n",
              "  <thead>\n",
              "    <tr style=\"text-align: right;\">\n",
              "      <th></th>\n",
              "      <th>Date</th>\n",
              "      <th>Open</th>\n",
              "      <th>High</th>\n",
              "      <th>Low</th>\n",
              "      <th>Close</th>\n",
              "      <th>Adj Close</th>\n",
              "      <th>Volume</th>\n",
              "    </tr>\n",
              "  </thead>\n",
              "  <tbody>\n",
              "    <tr>\n",
              "      <th>21</th>\n",
              "      <td>2019-05-31</td>\n",
              "      <td>180.279999</td>\n",
              "      <td>180.539993</td>\n",
              "      <td>177.160004</td>\n",
              "      <td>177.470001</td>\n",
              "      <td>177.470001</td>\n",
              "      <td>15226500</td>\n",
              "    </tr>\n",
              "  </tbody>\n",
              "</table>\n",
              "</div>"
            ],
            "text/plain": [
              "          Date        Open        High  ...       Close   Adj Close    Volume\n",
              "21  2019-05-31  180.279999  180.539993  ...  177.470001  177.470001  15226500\n",
              "\n",
              "[1 rows x 7 columns]"
            ]
          },
          "metadata": {
            "tags": []
          },
          "execution_count": 33
        }
      ]
    },
    {
      "cell_type": "code",
      "metadata": {
        "id": "pssMEG1Bjq6k",
        "colab_type": "code",
        "colab": {
          "base_uri": "https://localhost:8080/",
          "height": 34
        },
        "outputId": "d2c99177-6cad-4d92-fe8e-30c84541ec64"
      },
      "source": [
        "\n",
        "#Get all of the data except for the last row\n",
        "df=df.head(len(df)-1)\n",
        "df.shape"
      ],
      "execution_count": 34,
      "outputs": [
        {
          "output_type": "execute_result",
          "data": {
            "text/plain": [
              "(21, 7)"
            ]
          },
          "metadata": {
            "tags": []
          },
          "execution_count": 34
        }
      ]
    },
    {
      "cell_type": "code",
      "metadata": {
        "id": "BdcQFoe8kZoo",
        "colab_type": "code",
        "colab": {
          "base_uri": "https://localhost:8080/",
          "height": 34
        },
        "outputId": "4abbddab-e508-40f4-9a58-ba3b0eaa4dda"
      },
      "source": [
        "#Calculate the number of rows\n",
        "len(df)"
      ],
      "execution_count": 35,
      "outputs": [
        {
          "output_type": "execute_result",
          "data": {
            "text/plain": [
              "21"
            ]
          },
          "metadata": {
            "tags": []
          },
          "execution_count": 35
        }
      ]
    },
    {
      "cell_type": "code",
      "metadata": {
        "id": "r0XWaGiMnUcE",
        "colab_type": "code",
        "colab": {}
      },
      "source": [
        "\n",
        "df_dates = df.loc[:,'Date'] # Get all of the rows from the Date column\n",
        "df_open = df.loc[:,'Open'] #Get all of the rows from the Open column"
      ],
      "execution_count": 0,
      "outputs": []
    },
    {
      "cell_type": "code",
      "metadata": {
        "id": "YTHlMolLnda_",
        "colab_type": "code",
        "colab": {}
      },
      "source": [
        "#Create the independent data set 'X' as dates\n",
        "for date in df_dates:\n",
        "  dates.append([int(date.split('-')[2])])\n",
        "\n",
        "#Create the dependent data set 'y' as prices\n",
        "for open_price in df_open:\n",
        "  prices.append([float(open_price)])"
      ],
      "execution_count": 0,
      "outputs": []
    },
    {
      "cell_type": "code",
      "metadata": {
        "id": "SseJprLrpVzO",
        "colab_type": "code",
        "colab": {
          "base_uri": "https://localhost:8080/",
          "height": 34
        },
        "outputId": "7f83c809-1b7e-40f4-9cd5-d89ee1481c75"
      },
      "source": [
        "#see the date\n",
        "print(dates)"
      ],
      "execution_count": 38,
      "outputs": [
        {
          "output_type": "stream",
          "text": [
            "[[1], [2], [3], [6], [7], [8], [9], [10], [13], [14], [15], [16], [17], [20], [21], [22], [23], [24], [28], [29], [30]]\n"
          ],
          "name": "stdout"
        }
      ]
    },
    {
      "cell_type": "code",
      "metadata": {
        "id": "DMQzt-yVrH1p",
        "colab_type": "code",
        "colab": {
          "base_uri": "https://localhost:8080/",
          "height": 54
        },
        "outputId": "7edef79a-c0dc-436c-bc0d-ab6978a5693b"
      },
      "source": [
        "print(prices)"
      ],
      "execution_count": 41,
      "outputs": [
        {
          "output_type": "stream",
          "text": [
            "[[194.779999], [193.0], [194.380005], [191.240005], [192.53999299999998], [189.389999], [187.199997], [188.25], [183.5], [182.520004], [180.419998], [185.050003], [184.83999599999999], [181.880005], [184.570007], [184.729996], [182.419998], [182.330002], [181.53999299999998], [183.5], [183.080002]]\n"
          ],
          "name": "stdout"
        }
      ]
    },
    {
      "cell_type": "code",
      "metadata": {
        "id": "_cGhlhwzq-CX",
        "colab_type": "code",
        "colab": {}
      },
      "source": [
        "\n",
        "#Function to make predictions using 3 different support vector regression models with 3 different kernals\n",
        "def predict_prices(dates, prices, x):\n",
        "  \n",
        "  #Create 3 Support Vector Regression Models\n",
        "  svr_lin = SVR(kernel='linear', C=1e3)\n",
        "  svr_poly = SVR(kernel='poly', C=1e3, degree=2)\n",
        "  svr_rbf = SVR(kernel='rbf', C=1e3, gamma=0.1)\n",
        "  \n",
        "  #Train the models on the dates and prices\n",
        "  svr_lin.fit(dates,prices)\n",
        "  svr_poly.fit(dates, prices)\n",
        "  svr_rbf.fit(dates, prices)\n",
        "  \n",
        "  #Plot the models on a graph to see which has the best fit\n",
        "  plt.scatter(dates, prices, color = 'black', label='Data')\n",
        "  plt.plot(dates, svr_rbf.predict(dates), color = 'red', label='RBF model')\n",
        "  plt.plot(dates, svr_lin.predict(dates), color = 'green', label='Linear model')\n",
        "  plt.plot(dates, svr_poly.predict(dates), color = 'blue', label='Polynomial model')\n",
        "  plt.xlabel('Date')\n",
        "  plt.ylabel('Price')\n",
        "  plt.title('Support Vector Regression')\n",
        "  plt.legend()\n",
        "  plt.show()\n",
        "  \n",
        "  #return all three model predictions\n",
        "  return svr_rbf.predict(x)[0], svr_lin.predict(x)[0], svr_poly.predict(x)[0]"
      ],
      "execution_count": 0,
      "outputs": []
    },
    {
      "cell_type": "code",
      "metadata": {
        "id": "uYslIrolrE-C",
        "colab_type": "code",
        "colab": {
          "base_uri": "https://localhost:8080/",
          "height": 434
        },
        "outputId": "9b29db8d-dc11-4a5d-9e75-7c735059aaf0"
      },
      "source": [
        "#Predict the price of FB on day 31\n",
        "predicted_price = predict_prices(dates, prices, [[31]])\n",
        "print(predicted_price)"
      ],
      "execution_count": 42,
      "outputs": [
        {
          "output_type": "stream",
          "text": [
            "/usr/local/lib/python3.6/dist-packages/sklearn/utils/validation.py:760: DataConversionWarning: A column-vector y was passed when a 1d array was expected. Please change the shape of y to (n_samples, ), for example using ravel().\n",
            "  y = column_or_1d(y, warn=True)\n",
            "/usr/local/lib/python3.6/dist-packages/sklearn/utils/validation.py:760: DataConversionWarning: A column-vector y was passed when a 1d array was expected. Please change the shape of y to (n_samples, ), for example using ravel().\n",
            "  y = column_or_1d(y, warn=True)\n",
            "/usr/local/lib/python3.6/dist-packages/sklearn/utils/validation.py:760: DataConversionWarning: A column-vector y was passed when a 1d array was expected. Please change the shape of y to (n_samples, ), for example using ravel().\n",
            "  y = column_or_1d(y, warn=True)\n"
          ],
          "name": "stderr"
        },
        {
          "output_type": "display_data",
          "data": {
            "image/png": "[encoded data removed]",
            "text/plain": [
              "<Figure size 432x288 with 1 Axes>"
            ]
          },
          "metadata": {
            "tags": []
          }
        },
        {
          "output_type": "stream",
          "text": [
            "(180.33354977415465, 179.34125331240614, 179.7025944161506)\n"
          ],
          "name": "stdout"
        }
      ]
    }
  ]
}